{
 "cells": [
  {
   "cell_type": "markdown",
   "metadata": {},
   "source": [
    "<p style=\"text-align:center\">\n",
    "    <a href=\"https://github.com/binatnadata/event2-python-ERME_CLUB/tree/main\" target=\"_blank\">\n",
    "    <img src=\"https://raw.githubusercontent.com/binatnadata/event2-python-ERME_CLUB/main/assets/banner_head.jpeg\" width=\"800\" height=\"500\" alt=\"Collaboration banner\"  />\n",
    "    </a>\n",
    "</p>"
   ]
  },
  {
   "cell_type": "markdown",
   "metadata": {},
   "source": [
    "## Python labs -By Binatna Data-\n",
    "- **Sessions of December 2023**\n",
    "- **Session of 16/12/2023**"
   ]
  },
  {
   "cell_type": "markdown",
   "metadata": {},
   "source": [
    "<hr>\n",
    "<hr>"
   ]
  },
  {
   "cell_type": "markdown",
   "metadata": {},
   "source": [
    "<p style=\"text-align:center\">\n",
    "    <a href=\"https://github.com/binatnadata/event2-python-ERME_CLUB/tree/main\" target=\"_blank\">\n",
    "    <img src=\"https://raw.githubusercontent.com/binatnadata/event2-python-ERME_CLUB/main/assets/1_vPezx00A1u0WAfS8e8wBXQ.webp\" width=\"400\" height=\"500\" alt=\"Numpy logo\"  />\n",
    "    </a>\n",
    "</p>"
   ]
  },
  {
   "cell_type": "markdown",
   "metadata": {},
   "source": [
    "1. Create a NumPy array `(arr1)` with values `[1, 2, 3, 4, 5]`.\n",
    "2. Create a NumPy array `(arr2)` with values `[10, 20, 30, 40, 50]`.\n",
    "3. Perform element-wise `multiplication` of `arr1` and `arr2`. Save the result in a new array `result_mult`.\n",
    "4. Create a 3x3 identity matrix `identity_matrix`.\n",
    "5. Check the `shape`, `size`, and `data type` of `arr1`.\n",
    "6. `Reshape` `arr2` into a `5x1` matrix and name it `reshaped_arr2`.\n",
    "7. Append a new element `6` to the end of `arr1` and name the new array `arr1_appended`.\n",
    "8. Insert a new element `25` at index `2` in `arr2` and name the new array `arr2_inserted`.\n",
    "9. Delete the element at index `3` in `arr1` and name the new array `arr1_deleted`.\n",
    "10. Delete the first row in identity_matrix and name the new array `identity_matrix_deleted`.\n",
    "11. Slice `arr1` to get elements `greater than 2` and name the result `arr1_slice_condition`.\n",
    "12. Slice `arr2` to get elements `between index 1 and 3` (inclusive) and name the `result arr2_slice_interval`.\n",
    "13. Concatenate `arr1` and `arr2` along a new axis and name the result `concatenated_arrays`.\n",
    "14. Generate an array `random_array` of `10` random integers `between 0 and 100`.\n",
    "15. Sample `3` random elements from `random_array` without `replacement`.\n",
    "16. Save `random_array` to a `CSV file` named `\"random_data.csv\"`."
   ]
  },
  {
   "cell_type": "code",
   "execution_count": 1,
   "metadata": {},
   "outputs": [],
   "source": [
    "# import numpy package\n",
    "import numpy as np"
   ]
  },
  {
   "cell_type": "code",
   "execution_count": 4,
   "metadata": {},
   "outputs": [
    {
     "name": "stdout",
     "output_type": "stream",
     "text": [
      "Array 1 :  [1 2 3 4 5]\n"
     ]
    }
   ],
   "source": [
    "# 1\n",
    "arr1 = np.array([1, 2, 3, 4, 5])\n",
    "print(\"Array 1 : \", arr1)"
   ]
  },
  {
   "cell_type": "code",
   "execution_count": 5,
   "metadata": {},
   "outputs": [
    {
     "data": {
      "text/plain": [
       "numpy.ndarray"
      ]
     },
     "execution_count": 5,
     "metadata": {},
     "output_type": "execute_result"
    }
   ],
   "source": [
    "# verify the type\n",
    "type(arr1)"
   ]
  },
  {
   "cell_type": "code",
   "execution_count": 6,
   "metadata": {},
   "outputs": [
    {
     "name": "stdout",
     "output_type": "stream",
     "text": [
      "Array 2 :  [10 20 30 40 50]\n"
     ]
    }
   ],
   "source": [
    "# 2\n",
    "arr2 = np.array([10, 20, 30, 40, 50])\n",
    "print(\"Array 2 : \", arr2)"
   ]
  },
  {
   "cell_type": "code",
   "execution_count": 7,
   "metadata": {},
   "outputs": [
    {
     "name": "stdout",
     "output_type": "stream",
     "text": [
      "The multiplication of arr1 and arr2:  [ 10  40  90 160 250]\n"
     ]
    }
   ],
   "source": [
    "# 3\n",
    "result_mult = arr1 * arr2\n",
    "print(\"The multiplication of arr1 and arr2: \", result_mult)"
   ]
  },
  {
   "cell_type": "code",
   "execution_count": 10,
   "metadata": {},
   "outputs": [
    {
     "name": "stdout",
     "output_type": "stream",
     "text": [
      "identity_matrix : \n",
      " [[1. 0. 0.]\n",
      " [0. 1. 0.]\n",
      " [0. 0. 1.]]\n"
     ]
    }
   ],
   "source": [
    "# 4\n",
    "identity_matrix = np.eye(3)\n",
    "print(\"identity_matrix : \\n\", identity_matrix) "
   ]
  },
  {
   "cell_type": "code",
   "execution_count": 72,
   "metadata": {},
   "outputs": [
    {
     "data": {
      "text/plain": [
       "array([1, 2, 3, 4, 5])"
      ]
     },
     "execution_count": 72,
     "metadata": {},
     "output_type": "execute_result"
    }
   ],
   "source": [
    "arr1"
   ]
  },
  {
   "cell_type": "code",
   "execution_count": 11,
   "metadata": {},
   "outputs": [
    {
     "name": "stdout",
     "output_type": "stream",
     "text": [
      "Shape of arr1:  (5,)\n",
      "Size of arr1:  5\n",
      "Data type of arr1:  int32\n"
     ]
    }
   ],
   "source": [
    "#5\n",
    "print(\"Shape of arr1: \", arr1.shape)\n",
    "print(\"Size of arr1: \", arr1.size)\n",
    "print(\"Data type of arr1: \", arr1.dtype)"
   ]
  },
  {
   "cell_type": "code",
   "execution_count": 73,
   "metadata": {},
   "outputs": [
    {
     "data": {
      "text/plain": [
       "array([10, 20, 30, 40, 50])"
      ]
     },
     "execution_count": 73,
     "metadata": {},
     "output_type": "execute_result"
    }
   ],
   "source": [
    "arr2"
   ]
  },
  {
   "cell_type": "code",
   "execution_count": 14,
   "metadata": {},
   "outputs": [
    {
     "name": "stdout",
     "output_type": "stream",
     "text": [
      "reshaped_arr2 (5,1): \n",
      " [[10]\n",
      " [20]\n",
      " [30]\n",
      " [40]\n",
      " [50]]\n"
     ]
    }
   ],
   "source": [
    "# 6\n",
    "reshaped_arr2 = arr2.reshape((5, 1))\n",
    "print(\"reshaped_arr2 (5,1): \\n\", reshaped_arr2)"
   ]
  },
  {
   "cell_type": "code",
   "execution_count": 74,
   "metadata": {},
   "outputs": [
    {
     "data": {
      "text/plain": [
       "array([1, 2, 3, 4, 5])"
      ]
     },
     "execution_count": 74,
     "metadata": {},
     "output_type": "execute_result"
    }
   ],
   "source": [
    "arr1"
   ]
  },
  {
   "cell_type": "code",
   "execution_count": 16,
   "metadata": {},
   "outputs": [
    {
     "name": "stdout",
     "output_type": "stream",
     "text": [
      "arr1_appended 6:  [1 2 3 4 5 6]\n"
     ]
    }
   ],
   "source": [
    "# 7\n",
    "arr1_appended = np.append(arr1, 6)\n",
    "print(\"arr1_appended 6: \", arr1_appended)"
   ]
  },
  {
   "cell_type": "code",
   "execution_count": 16,
   "metadata": {},
   "outputs": [
    {
     "name": "stdout",
     "output_type": "stream",
     "text": [
      "arr2 -------  [10 20 30 40 50]\n",
      "arr2_inserted (25 at index 2):  [10 20 25 30 40 50]\n"
     ]
    }
   ],
   "source": [
    "# 8\n",
    "print(\"arr2 ------- \",arr2)\n",
    "arr2_inserted = np.insert(arr2, 2, 25)\n",
    "print(\"arr2_inserted (25 at index 2): \", arr2_inserted)"
   ]
  },
  {
   "cell_type": "code",
   "execution_count": 75,
   "metadata": {},
   "outputs": [
    {
     "data": {
      "text/plain": [
       "array([1, 2, 3, 4, 5])"
      ]
     },
     "execution_count": 75,
     "metadata": {},
     "output_type": "execute_result"
    }
   ],
   "source": [
    "arr1"
   ]
  },
  {
   "cell_type": "code",
   "execution_count": 19,
   "metadata": {},
   "outputs": [
    {
     "name": "stdout",
     "output_type": "stream",
     "text": [
      "arr1 ------------- [1 2 3 4 5]\n",
      "arr1_deleted (at index 3):  [1 2 3 5]\n"
     ]
    }
   ],
   "source": [
    "# 9\n",
    "print('arr1 -------------', arr1 )\n",
    "arr1_deleted = np.delete(arr1, 3)\n",
    "print(\"arr1_deleted (at index 3): \", arr1_deleted)"
   ]
  },
  {
   "cell_type": "code",
   "execution_count": 21,
   "metadata": {},
   "outputs": [
    {
     "name": "stdout",
     "output_type": "stream",
     "text": [
      "identity matrix -----------\n",
      "[[1. 0. 0.]\n",
      " [0. 1. 0.]\n",
      " [0. 0. 1.]]\n",
      "identity_matrix_deleted (delete first row): \n",
      " [[0. 1. 0.]\n",
      " [0. 0. 1.]]\n"
     ]
    }
   ],
   "source": [
    "# 10\n",
    "print('identity matrix -----------')\n",
    "print(identity_matrix)\n",
    "identity_matrix_deleted = np.delete(identity_matrix, 0, axis=0)\n",
    "print(\"identity_matrix_deleted (delete first row): \\n\", identity_matrix_deleted)"
   ]
  },
  {
   "cell_type": "code",
   "execution_count": 76,
   "metadata": {},
   "outputs": [
    {
     "data": {
      "text/plain": [
       "array([1, 2, 3, 4, 5])"
      ]
     },
     "execution_count": 76,
     "metadata": {},
     "output_type": "execute_result"
    }
   ],
   "source": [
    "arr1"
   ]
  },
  {
   "cell_type": "code",
   "execution_count": 77,
   "metadata": {},
   "outputs": [
    {
     "data": {
      "text/plain": [
       "array([False, False,  True,  True,  True])"
      ]
     },
     "execution_count": 77,
     "metadata": {},
     "output_type": "execute_result"
    }
   ],
   "source": [
    "arr1 > 2"
   ]
  },
  {
   "cell_type": "code",
   "execution_count": 22,
   "metadata": {},
   "outputs": [
    {
     "name": "stdout",
     "output_type": "stream",
     "text": [
      "arr1 ------------- [1 2 3 4 5]\n",
      "arr1_slice_condition (elements greater than 2):  [3 4 5]\n"
     ]
    }
   ],
   "source": [
    "# 11\n",
    "print('arr1 -------------', arr1)\n",
    "arr1_slice_condition = arr1[arr1 > 2]\n",
    "print(\"arr1_slice_condition (elements greater than 2): \", arr1_slice_condition)"
   ]
  },
  {
   "cell_type": "code",
   "execution_count": 26,
   "metadata": {},
   "outputs": [
    {
     "name": "stdout",
     "output_type": "stream",
     "text": [
      "arr2 ----------  [10 20 30 40 50]\n",
      "arr2_slice_interval (elements between index 1 and 3 (inclusive)):  [20 30 40]\n"
     ]
    }
   ],
   "source": [
    "# 12\n",
    "print('arr2 ---------- ', arr2)\n",
    "arr2_slice_interval = arr2[1:4]\n",
    "print(\"arr2_slice_interval (elements between index 1 and 3 (inclusive)): \", arr2_slice_interval)"
   ]
  },
  {
   "cell_type": "code",
   "execution_count": 78,
   "metadata": {},
   "outputs": [
    {
     "name": "stdout",
     "output_type": "stream",
     "text": [
      "[1 2 3 4 5]\n",
      "[10 20 30 40 50]\n"
     ]
    }
   ],
   "source": [
    "print(arr1)\n",
    "print(arr2)"
   ]
  },
  {
   "cell_type": "code",
   "execution_count": 30,
   "metadata": {},
   "outputs": [
    {
     "name": "stdout",
     "output_type": "stream",
     "text": [
      "concatenated_arrays (Concatenate arr1 and arr2):  [ 1  2  3  4  5 10 20 30 40 50]\n"
     ]
    }
   ],
   "source": [
    "# 13\n",
    "concatenated_arrays = np.concatenate((arr1, arr2), axis=None)\n",
    "print(\"concatenated_arrays (Concatenate arr1 and arr2): \", concatenated_arrays)"
   ]
  },
  {
   "cell_type": "code",
   "execution_count": 92,
   "metadata": {},
   "outputs": [
    {
     "name": "stdout",
     "output_type": "stream",
     "text": [
      "random_array (random_array of 10 random):  [100  70   2  76  69   2  78  20  14 100]\n"
     ]
    }
   ],
   "source": [
    "# 14\n",
    "random_array = np.random.randint(0, 101, size=10)\n",
    "print(\"random_array (random_array of 10 random): \", random_array)"
   ]
  },
  {
   "cell_type": "code",
   "execution_count": 93,
   "metadata": {},
   "outputs": [
    {
     "name": "stdout",
     "output_type": "stream",
     "text": [
      "random_samples (3 random elements):  [69 76  2]\n"
     ]
    }
   ],
   "source": [
    "# 15\n",
    "random_samples = np.random.choice(random_array, size=3, replace=False)\n",
    "print(\"random_samples (3 random elements): \", random_samples)"
   ]
  },
  {
   "cell_type": "code",
   "execution_count": 63,
   "metadata": {},
   "outputs": [
    {
     "data": {
      "text/plain": [
       "array([75, 86, 95, 63, 14, 35, 79,  7, 88, 81])"
      ]
     },
     "execution_count": 63,
     "metadata": {},
     "output_type": "execute_result"
    }
   ],
   "source": [
    "random_array"
   ]
  },
  {
   "cell_type": "code",
   "execution_count": 94,
   "metadata": {},
   "outputs": [
    {
     "data": {
      "text/plain": [
       "array([100,  70,   2,  76,  69,   2,  78,  20,  14, 100])"
      ]
     },
     "execution_count": 94,
     "metadata": {},
     "output_type": "execute_result"
    }
   ],
   "source": [
    "random_array"
   ]
  },
  {
   "cell_type": "code",
   "execution_count": 95,
   "metadata": {},
   "outputs": [
    {
     "name": "stdout",
     "output_type": "stream",
     "text": [
      "random_data.csv saved successfully.\n"
     ]
    }
   ],
   "source": [
    "# 16\n",
    "np.savetxt('random_data.csv', random_array, delimiter=',')\n",
    "print(\"random_data.csv saved successfully.\")"
   ]
  },
  {
   "cell_type": "code",
   "execution_count": 96,
   "metadata": {},
   "outputs": [],
   "source": [
    "# 17\n",
    "loaded_array = np.loadtxt('random_data.csv', delimiter=',')"
   ]
  },
  {
   "cell_type": "code",
   "execution_count": 97,
   "metadata": {},
   "outputs": [],
   "source": [
    "# 18\n",
    "loaded_array_sum = np.sum(loaded_array)\n",
    "loaded_array_cumsum = np.cumsum(loaded_array)\n",
    "loaded_array_mean = np.mean(loaded_array)"
   ]
  },
  {
   "cell_type": "code",
   "execution_count": 98,
   "metadata": {},
   "outputs": [
    {
     "data": {
      "text/plain": [
       "array([100.,  70.,   2.,  76.,  69.,   2.,  78.,  20.,  14., 100.])"
      ]
     },
     "execution_count": 98,
     "metadata": {},
     "output_type": "execute_result"
    }
   ],
   "source": [
    "loaded_array"
   ]
  },
  {
   "cell_type": "code",
   "execution_count": 99,
   "metadata": {},
   "outputs": [
    {
     "name": "stdout",
     "output_type": "stream",
     "text": [
      "sum 531.0\n",
      "**********\n",
      "cumsum [100. 170. 172. 248. 317. 319. 397. 417. 431. 531.]\n",
      "**********\n",
      "mean 53.1\n"
     ]
    }
   ],
   "source": [
    "print('sum', loaded_array_sum)\n",
    "print('*'*10)\n",
    "print('cumsum', loaded_array_cumsum)\n",
    "print('*'*10)\n",
    "print('mean', loaded_array_mean)"
   ]
  },
  {
   "cell_type": "code",
   "execution_count": 100,
   "metadata": {},
   "outputs": [
    {
     "data": {
      "text/plain": [
       "array([[0., 1., 0.],\n",
       "       [0., 0., 1.]])"
      ]
     },
     "execution_count": 100,
     "metadata": {},
     "output_type": "execute_result"
    }
   ],
   "source": [
    "identity_matrix_deleted"
   ]
  },
  {
   "cell_type": "code",
   "execution_count": 101,
   "metadata": {},
   "outputs": [
    {
     "name": "stdout",
     "output_type": "stream",
     "text": [
      "column_means_identity: \n",
      " [0.  0.5 0.5]\n"
     ]
    }
   ],
   "source": [
    "# 19\n",
    "column_means_identity = np.mean(identity_matrix_deleted, axis=0)\n",
    "print(\"column_means_identity: \\n\",column_means_identity)"
   ]
  },
  {
   "cell_type": "code",
   "execution_count": 102,
   "metadata": {},
   "outputs": [
    {
     "name": "stdout",
     "output_type": "stream",
     "text": [
      "results :  [531.   53.1]\n",
      "results.csv saved successfully.\n"
     ]
    }
   ],
   "source": [
    "# 20\n",
    "results=np.array([loaded_array_sum, loaded_array_mean])\n",
    "print(\"results : \", results)\n",
    "np.savetxt('results.csv', results)\n",
    "print(\"results.csv saved successfully.\")"
   ]
  },
  {
   "cell_type": "markdown",
   "metadata": {},
   "source": [
    "<hr>"
   ]
  },
  {
   "cell_type": "markdown",
   "metadata": {},
   "source": [
    "# Exercise 2: Solar Energy Calculation"
   ]
  },
  {
   "cell_type": "markdown",
   "metadata": {},
   "source": [
    "<p style=\"text-align:center\">\n",
    "    <img src=\"https://th.bing.com/th/id/R.b3c79851427a8a55723fe3827b31abec?rik=hhIrP8ict8gxIw&riu=http%3a%2f%2fnews.delaware.gov%2ffiles%2f2012%2f03%2fMotech-Solar-Panel-floating.jpg&ehk=Q3uAu91jOrnoGRCY6%2bd9acDMq6CEzBIKGJLdw9zD5B0%3d&risl=&pid=ImgRaw&r=0\" width=\"500\" height=\"200\" alt=\"Solar Energy\"  />\n",
    "</p>"
   ]
  },
  {
   "cell_type": "markdown",
   "metadata": {},
   "source": [
    "$$\n",
    "E = A \\times \\eta \\times I \\times t\n",
    "$$\n"
   ]
  },
  {
   "cell_type": "markdown",
   "metadata": {},
   "source": [
    "1. Develop a script that utilizes the `pandas` library to read the contents of the csv file named `\"solar_energy_data_by_binatnaData.csv\"` into a DataFrame, and assign it the variable name `df`.\n",
    "2. Display the first and last few rows of the DataFrame using the `head()` and `tail()` functions, and the column names. \n",
    "3. Rename the columns by the following names : `A, E, I, T`\n",
    "4. Determine and print the `count of missing (NaN) values` for each column in the DataFrame.\n",
    "5. Eliminate the `rows containing NaN values` from the DataFrame.\n",
    "6. Check for `duplicate rows` in the DataFrame using the `duplicated()` method.\n",
    "7. Calculate the Energy for each row by applying the formula: `Energy = Solar Panel Area * Solar Panel Efficiency * Solar Irradiance * Time`.\n",
    "8. Calculate the energy for each row by applying the same `formula`, this time using a `function` that takes 4 `arguments`: A (Area), E (Efficiency), I (Irradiance), T (Time), then the function returns the calculated Energy. \n",
    "9. Introduce a new column in the DataFrame, naming it `\"Energy\"` and populate it with the calculated energy values.\n",
    "9. Save the modified DataFrame with the additional `Energy` column to a `new csv file`."
   ]
  },
  {
   "cell_type": "code",
   "execution_count": 107,
   "metadata": {},
   "outputs": [],
   "source": [
    "import pandas as pd\n",
    "import numpy as np"
   ]
  },
  {
   "cell_type": "code",
   "execution_count": 110,
   "metadata": {},
   "outputs": [],
   "source": [
    "# 1\n",
    "#read the csv file\n",
    "df = pd.read_csv(\"data/solar_energy_data_by_binatnaData.csv\")"
   ]
  },
  {
   "cell_type": "code",
   "execution_count": 67,
   "metadata": {},
   "outputs": [],
   "source": [
    "# 2"
   ]
  },
  {
   "cell_type": "code",
   "execution_count": 109,
   "metadata": {},
   "outputs": [
    {
     "data": {
      "text/html": [
       "<div>\n",
       "<style scoped>\n",
       "    .dataframe tbody tr th:only-of-type {\n",
       "        vertical-align: middle;\n",
       "    }\n",
       "\n",
       "    .dataframe tbody tr th {\n",
       "        vertical-align: top;\n",
       "    }\n",
       "\n",
       "    .dataframe thead th {\n",
       "        text-align: right;\n",
       "    }\n",
       "</style>\n",
       "<table border=\"1\" class=\"dataframe\">\n",
       "  <thead>\n",
       "    <tr style=\"text-align: right;\">\n",
       "      <th></th>\n",
       "      <th>Solar Panel Area</th>\n",
       "      <th>Solar Panel Efficiency</th>\n",
       "      <th>Solar Irradiance</th>\n",
       "      <th>Time in Hour</th>\n",
       "    </tr>\n",
       "  </thead>\n",
       "  <tbody>\n",
       "    <tr>\n",
       "      <th>0</th>\n",
       "      <td>20.0</td>\n",
       "      <td>18.5</td>\n",
       "      <td>200.0</td>\n",
       "      <td>6.0</td>\n",
       "    </tr>\n",
       "    <tr>\n",
       "      <th>1</th>\n",
       "      <td>15.0</td>\n",
       "      <td>21.2</td>\n",
       "      <td>180.0</td>\n",
       "      <td>8.0</td>\n",
       "    </tr>\n",
       "    <tr>\n",
       "      <th>2</th>\n",
       "      <td>25.0</td>\n",
       "      <td>16.8</td>\n",
       "      <td>220.0</td>\n",
       "      <td>4.0</td>\n",
       "    </tr>\n",
       "    <tr>\n",
       "      <th>3</th>\n",
       "      <td>30.0</td>\n",
       "      <td>20.1</td>\n",
       "      <td>250.0</td>\n",
       "      <td>7.0</td>\n",
       "    </tr>\n",
       "    <tr>\n",
       "      <th>4</th>\n",
       "      <td>18.0</td>\n",
       "      <td>19.3</td>\n",
       "      <td>190.0</td>\n",
       "      <td>5.0</td>\n",
       "    </tr>\n",
       "  </tbody>\n",
       "</table>\n",
       "</div>"
      ],
      "text/plain": [
       "    Solar Panel Area   Solar Panel Efficiency    Solar Irradiance   \\\n",
       "0               20.0                      18.5               200.0   \n",
       "1               15.0                      21.2               180.0   \n",
       "2               25.0                      16.8               220.0   \n",
       "3               30.0                      20.1               250.0   \n",
       "4               18.0                      19.3               190.0   \n",
       "\n",
       "    Time in Hour   \n",
       "0             6.0  \n",
       "1             8.0  \n",
       "2             4.0  \n",
       "3             7.0  \n",
       "4             5.0  "
      ]
     },
     "execution_count": 109,
     "metadata": {},
     "output_type": "execute_result"
    }
   ],
   "source": [
    "df.head()"
   ]
  },
  {
   "cell_type": "code",
   "execution_count": 66,
   "metadata": {},
   "outputs": [
    {
     "data": {
      "text/html": [
       "<div>\n",
       "<style scoped>\n",
       "    .dataframe tbody tr th:only-of-type {\n",
       "        vertical-align: middle;\n",
       "    }\n",
       "\n",
       "    .dataframe tbody tr th {\n",
       "        vertical-align: top;\n",
       "    }\n",
       "\n",
       "    .dataframe thead th {\n",
       "        text-align: right;\n",
       "    }\n",
       "</style>\n",
       "<table border=\"1\" class=\"dataframe\">\n",
       "  <thead>\n",
       "    <tr style=\"text-align: right;\">\n",
       "      <th></th>\n",
       "      <th>Solar Panel Area</th>\n",
       "      <th>Solar Panel Efficiency</th>\n",
       "      <th>Solar Irradiance</th>\n",
       "      <th>Time in Hour</th>\n",
       "    </tr>\n",
       "  </thead>\n",
       "  <tbody>\n",
       "    <tr>\n",
       "      <th>28</th>\n",
       "      <td>11.0</td>\n",
       "      <td>21.0</td>\n",
       "      <td>170.0</td>\n",
       "      <td>8.0</td>\n",
       "    </tr>\n",
       "    <tr>\n",
       "      <th>29</th>\n",
       "      <td>25.0</td>\n",
       "      <td>19.7</td>\n",
       "      <td>220.0</td>\n",
       "      <td>5.0</td>\n",
       "    </tr>\n",
       "    <tr>\n",
       "      <th>30</th>\n",
       "      <td>37.0</td>\n",
       "      <td>17.9</td>\n",
       "      <td>240.0</td>\n",
       "      <td>7.0</td>\n",
       "    </tr>\n",
       "    <tr>\n",
       "      <th>31</th>\n",
       "      <td>15.0</td>\n",
       "      <td>20.2</td>\n",
       "      <td>190.0</td>\n",
       "      <td>4.0</td>\n",
       "    </tr>\n",
       "    <tr>\n",
       "      <th>32</th>\n",
       "      <td>28.0</td>\n",
       "      <td>16.7</td>\n",
       "      <td>260.0</td>\n",
       "      <td>10.0</td>\n",
       "    </tr>\n",
       "  </tbody>\n",
       "</table>\n",
       "</div>"
      ],
      "text/plain": [
       "     Solar Panel Area   Solar Panel Efficiency    Solar Irradiance   \\\n",
       "28               11.0                      21.0               170.0   \n",
       "29               25.0                      19.7               220.0   \n",
       "30               37.0                      17.9               240.0   \n",
       "31               15.0                      20.2               190.0   \n",
       "32               28.0                      16.7               260.0   \n",
       "\n",
       "     Time in Hour   \n",
       "28             8.0  \n",
       "29             5.0  \n",
       "30             7.0  \n",
       "31             4.0  \n",
       "32            10.0  "
      ]
     },
     "execution_count": 66,
     "metadata": {},
     "output_type": "execute_result"
    }
   ],
   "source": [
    "df.tail()"
   ]
  },
  {
   "cell_type": "code",
   "execution_count": 111,
   "metadata": {},
   "outputs": [
    {
     "data": {
      "text/plain": [
       "Index([' Solar Panel Area', ' Solar Panel Efficiency ', ' Solar Irradiance ',\n",
       "       ' Time in Hour '],\n",
       "      dtype='object')"
      ]
     },
     "execution_count": 111,
     "metadata": {},
     "output_type": "execute_result"
    }
   ],
   "source": [
    "# list the column names\n",
    "df.columns"
   ]
  },
  {
   "cell_type": "code",
   "execution_count": 124,
   "metadata": {},
   "outputs": [],
   "source": [
    "# 3\n",
    "# rename columns\n",
    "df.rename(columns = {' Solar Panel Area': 'A',\n",
    "                     ' Solar Panel Efficiency ': 'E',\n",
    "                     ' Solar Irradiance ' : 'I',\n",
    "                     ' Time in Hour ' : 'T'\n",
    "                    }, inplace=True)"
   ]
  },
  {
   "cell_type": "code",
   "execution_count": 125,
   "metadata": {},
   "outputs": [
    {
     "data": {
      "text/html": [
       "<div>\n",
       "<style scoped>\n",
       "    .dataframe tbody tr th:only-of-type {\n",
       "        vertical-align: middle;\n",
       "    }\n",
       "\n",
       "    .dataframe tbody tr th {\n",
       "        vertical-align: top;\n",
       "    }\n",
       "\n",
       "    .dataframe thead th {\n",
       "        text-align: right;\n",
       "    }\n",
       "</style>\n",
       "<table border=\"1\" class=\"dataframe\">\n",
       "  <thead>\n",
       "    <tr style=\"text-align: right;\">\n",
       "      <th></th>\n",
       "      <th>A</th>\n",
       "      <th>E</th>\n",
       "      <th>I</th>\n",
       "      <th>T</th>\n",
       "    </tr>\n",
       "  </thead>\n",
       "  <tbody>\n",
       "    <tr>\n",
       "      <th>0</th>\n",
       "      <td>20.0</td>\n",
       "      <td>18.5</td>\n",
       "      <td>200.0</td>\n",
       "      <td>6.0</td>\n",
       "    </tr>\n",
       "  </tbody>\n",
       "</table>\n",
       "</div>"
      ],
      "text/plain": [
       "      A     E      I    T\n",
       "0  20.0  18.5  200.0  6.0"
      ]
     },
     "execution_count": 125,
     "metadata": {},
     "output_type": "execute_result"
    }
   ],
   "source": [
    "# verify \n",
    "df.head(1)"
   ]
  },
  {
   "cell_type": "code",
   "execution_count": 126,
   "metadata": {},
   "outputs": [
    {
     "data": {
      "text/plain": [
       "A    0\n",
       "E    0\n",
       "I    0\n",
       "T    0\n",
       "dtype: int64"
      ]
     },
     "execution_count": 126,
     "metadata": {},
     "output_type": "execute_result"
    }
   ],
   "source": [
    "# 4\n",
    "# count the number of nan values for each column\n",
    "df.isnull().sum()"
   ]
  },
  {
   "cell_type": "code",
   "execution_count": 127,
   "metadata": {},
   "outputs": [
    {
     "name": "stdout",
     "output_type": "stream",
     "text": [
      "The total number of missing values is 0\n"
     ]
    }
   ],
   "source": [
    "print('The total number of missing values is {}'.format(df.isnull().sum().sum()))"
   ]
  },
  {
   "cell_type": "code",
   "execution_count": 118,
   "metadata": {},
   "outputs": [],
   "source": [
    "# 5\n",
    "# drop nan values \n",
    "df.dropna(axis=0, inplace=True)"
   ]
  },
  {
   "cell_type": "code",
   "execution_count": 128,
   "metadata": {},
   "outputs": [
    {
     "data": {
      "text/plain": [
       "A    0\n",
       "E    0\n",
       "I    0\n",
       "T    0\n",
       "dtype: int64"
      ]
     },
     "execution_count": 128,
     "metadata": {},
     "output_type": "execute_result"
    }
   ],
   "source": [
    "# check if nan values are deleted\n",
    "df.isnull().sum()"
   ]
  },
  {
   "cell_type": "code",
   "execution_count": 129,
   "metadata": {},
   "outputs": [
    {
     "name": "stdout",
     "output_type": "stream",
     "text": [
      "The total number of missing values is 0\n"
     ]
    }
   ],
   "source": [
    "print('The total number of missing values is {}'.format(df.isnull().sum().sum()))"
   ]
  },
  {
   "cell_type": "code",
   "execution_count": 130,
   "metadata": {},
   "outputs": [
    {
     "data": {
      "text/plain": [
       "0"
      ]
     },
     "execution_count": 130,
     "metadata": {},
     "output_type": "execute_result"
    }
   ],
   "source": [
    "# 6\n",
    "# count the number of duplicated rows\n",
    "df.duplicated().sum()"
   ]
  },
  {
   "cell_type": "code",
   "execution_count": 131,
   "metadata": {},
   "outputs": [],
   "source": [
    "# drop duplicated rows (in case)\n",
    "df.drop_duplicates(inplace=True)"
   ]
  },
  {
   "cell_type": "code",
   "execution_count": 133,
   "metadata": {},
   "outputs": [],
   "source": [
    "# 7\n",
    "# calculate energy without using function\n",
    "df['Energy'] = df['A'] * df['E'] * df['I'] * df['T']"
   ]
  },
  {
   "cell_type": "code",
   "execution_count": 134,
   "metadata": {},
   "outputs": [
    {
     "data": {
      "text/html": [
       "<div>\n",
       "<style scoped>\n",
       "    .dataframe tbody tr th:only-of-type {\n",
       "        vertical-align: middle;\n",
       "    }\n",
       "\n",
       "    .dataframe tbody tr th {\n",
       "        vertical-align: top;\n",
       "    }\n",
       "\n",
       "    .dataframe thead th {\n",
       "        text-align: right;\n",
       "    }\n",
       "</style>\n",
       "<table border=\"1\" class=\"dataframe\">\n",
       "  <thead>\n",
       "    <tr style=\"text-align: right;\">\n",
       "      <th></th>\n",
       "      <th>A</th>\n",
       "      <th>E</th>\n",
       "      <th>I</th>\n",
       "      <th>T</th>\n",
       "      <th>Energy</th>\n",
       "    </tr>\n",
       "  </thead>\n",
       "  <tbody>\n",
       "    <tr>\n",
       "      <th>0</th>\n",
       "      <td>20.0</td>\n",
       "      <td>18.5</td>\n",
       "      <td>200.0</td>\n",
       "      <td>6.0</td>\n",
       "      <td>444000.0</td>\n",
       "    </tr>\n",
       "    <tr>\n",
       "      <th>1</th>\n",
       "      <td>15.0</td>\n",
       "      <td>21.2</td>\n",
       "      <td>180.0</td>\n",
       "      <td>8.0</td>\n",
       "      <td>457920.0</td>\n",
       "    </tr>\n",
       "    <tr>\n",
       "      <th>2</th>\n",
       "      <td>25.0</td>\n",
       "      <td>16.8</td>\n",
       "      <td>220.0</td>\n",
       "      <td>4.0</td>\n",
       "      <td>369600.0</td>\n",
       "    </tr>\n",
       "    <tr>\n",
       "      <th>3</th>\n",
       "      <td>30.0</td>\n",
       "      <td>20.1</td>\n",
       "      <td>250.0</td>\n",
       "      <td>7.0</td>\n",
       "      <td>1055250.0</td>\n",
       "    </tr>\n",
       "    <tr>\n",
       "      <th>4</th>\n",
       "      <td>18.0</td>\n",
       "      <td>19.3</td>\n",
       "      <td>190.0</td>\n",
       "      <td>5.0</td>\n",
       "      <td>330030.0</td>\n",
       "    </tr>\n",
       "  </tbody>\n",
       "</table>\n",
       "</div>"
      ],
      "text/plain": [
       "      A     E      I    T     Energy\n",
       "0  20.0  18.5  200.0  6.0   444000.0\n",
       "1  15.0  21.2  180.0  8.0   457920.0\n",
       "2  25.0  16.8  220.0  4.0   369600.0\n",
       "3  30.0  20.1  250.0  7.0  1055250.0\n",
       "4  18.0  19.3  190.0  5.0   330030.0"
      ]
     },
     "execution_count": 134,
     "metadata": {},
     "output_type": "execute_result"
    }
   ],
   "source": [
    "# check\n",
    "df.head()"
   ]
  },
  {
   "cell_type": "code",
   "execution_count": 135,
   "metadata": {},
   "outputs": [],
   "source": [
    "# 8\n",
    "# define the calculate energy function\n",
    "def calculate_energy(A, E, I, T):\n",
    "    return A*E*I*T\n",
    "\n",
    "# init a list to store energies \n",
    "energy_list = []\n",
    "for index, row in df.iterrows(): # iterrows to iterate the df row by row\n",
    "    temp_A = row[\"A\"]\n",
    "    temp_E = row[\"E\"]\n",
    "    temp_I = row[\"I\"]\n",
    "    temp_T = row[\"T\"]\n",
    "    temp_E = calculate_energy(temp_A, temp_E, temp_I, temp_T)\n",
    "    energy_list.append(temp_E)\n",
    "\n",
    "# 9\n",
    "# create new column \n",
    "df[\"Energy_2\"] = energy_list"
   ]
  },
  {
   "cell_type": "code",
   "execution_count": 136,
   "metadata": {
    "scrolled": true
   },
   "outputs": [
    {
     "data": {
      "text/html": [
       "<div>\n",
       "<style scoped>\n",
       "    .dataframe tbody tr th:only-of-type {\n",
       "        vertical-align: middle;\n",
       "    }\n",
       "\n",
       "    .dataframe tbody tr th {\n",
       "        vertical-align: top;\n",
       "    }\n",
       "\n",
       "    .dataframe thead th {\n",
       "        text-align: right;\n",
       "    }\n",
       "</style>\n",
       "<table border=\"1\" class=\"dataframe\">\n",
       "  <thead>\n",
       "    <tr style=\"text-align: right;\">\n",
       "      <th></th>\n",
       "      <th>A</th>\n",
       "      <th>E</th>\n",
       "      <th>I</th>\n",
       "      <th>T</th>\n",
       "      <th>Energy</th>\n",
       "      <th>Energy_2</th>\n",
       "    </tr>\n",
       "  </thead>\n",
       "  <tbody>\n",
       "    <tr>\n",
       "      <th>0</th>\n",
       "      <td>20.0</td>\n",
       "      <td>18.5</td>\n",
       "      <td>200.0</td>\n",
       "      <td>6.0</td>\n",
       "      <td>444000.0</td>\n",
       "      <td>444000.0</td>\n",
       "    </tr>\n",
       "    <tr>\n",
       "      <th>1</th>\n",
       "      <td>15.0</td>\n",
       "      <td>21.2</td>\n",
       "      <td>180.0</td>\n",
       "      <td>8.0</td>\n",
       "      <td>457920.0</td>\n",
       "      <td>457920.0</td>\n",
       "    </tr>\n",
       "    <tr>\n",
       "      <th>2</th>\n",
       "      <td>25.0</td>\n",
       "      <td>16.8</td>\n",
       "      <td>220.0</td>\n",
       "      <td>4.0</td>\n",
       "      <td>369600.0</td>\n",
       "      <td>369600.0</td>\n",
       "    </tr>\n",
       "    <tr>\n",
       "      <th>3</th>\n",
       "      <td>30.0</td>\n",
       "      <td>20.1</td>\n",
       "      <td>250.0</td>\n",
       "      <td>7.0</td>\n",
       "      <td>1055250.0</td>\n",
       "      <td>1055250.0</td>\n",
       "    </tr>\n",
       "    <tr>\n",
       "      <th>4</th>\n",
       "      <td>18.0</td>\n",
       "      <td>19.3</td>\n",
       "      <td>190.0</td>\n",
       "      <td>5.0</td>\n",
       "      <td>330030.0</td>\n",
       "      <td>330030.0</td>\n",
       "    </tr>\n",
       "  </tbody>\n",
       "</table>\n",
       "</div>"
      ],
      "text/plain": [
       "      A     E      I    T     Energy   Energy_2\n",
       "0  20.0  18.5  200.0  6.0   444000.0   444000.0\n",
       "1  15.0  21.2  180.0  8.0   457920.0   457920.0\n",
       "2  25.0  16.8  220.0  4.0   369600.0   369600.0\n",
       "3  30.0  20.1  250.0  7.0  1055250.0  1055250.0\n",
       "4  18.0  19.3  190.0  5.0   330030.0   330030.0"
      ]
     },
     "execution_count": 136,
     "metadata": {},
     "output_type": "execute_result"
    }
   ],
   "source": [
    "# display the resulted df\n",
    "df.head()"
   ]
  },
  {
   "cell_type": "code",
   "execution_count": 140,
   "metadata": {},
   "outputs": [],
   "source": [
    "# second method to calculate the energy, optimized\n",
    "def calculate_energy_by_row(row):\n",
    "    return row['A'] * row['E'] * row['I'] * row['T']\n",
    "\n",
    "df[\"Energy_3\"] = df.apply(calculate_energy_by_row, axis=1)"
   ]
  },
  {
   "cell_type": "code",
   "execution_count": 141,
   "metadata": {},
   "outputs": [
    {
     "data": {
      "text/html": [
       "<div>\n",
       "<style scoped>\n",
       "    .dataframe tbody tr th:only-of-type {\n",
       "        vertical-align: middle;\n",
       "    }\n",
       "\n",
       "    .dataframe tbody tr th {\n",
       "        vertical-align: top;\n",
       "    }\n",
       "\n",
       "    .dataframe thead th {\n",
       "        text-align: right;\n",
       "    }\n",
       "</style>\n",
       "<table border=\"1\" class=\"dataframe\">\n",
       "  <thead>\n",
       "    <tr style=\"text-align: right;\">\n",
       "      <th></th>\n",
       "      <th>A</th>\n",
       "      <th>E</th>\n",
       "      <th>I</th>\n",
       "      <th>T</th>\n",
       "      <th>Energy</th>\n",
       "      <th>Energy_2</th>\n",
       "      <th>Energy_3</th>\n",
       "    </tr>\n",
       "  </thead>\n",
       "  <tbody>\n",
       "    <tr>\n",
       "      <th>0</th>\n",
       "      <td>20.0</td>\n",
       "      <td>18.5</td>\n",
       "      <td>200.0</td>\n",
       "      <td>6.0</td>\n",
       "      <td>444000.0</td>\n",
       "      <td>444000.0</td>\n",
       "      <td>444000.0</td>\n",
       "    </tr>\n",
       "    <tr>\n",
       "      <th>1</th>\n",
       "      <td>15.0</td>\n",
       "      <td>21.2</td>\n",
       "      <td>180.0</td>\n",
       "      <td>8.0</td>\n",
       "      <td>457920.0</td>\n",
       "      <td>457920.0</td>\n",
       "      <td>457920.0</td>\n",
       "    </tr>\n",
       "    <tr>\n",
       "      <th>2</th>\n",
       "      <td>25.0</td>\n",
       "      <td>16.8</td>\n",
       "      <td>220.0</td>\n",
       "      <td>4.0</td>\n",
       "      <td>369600.0</td>\n",
       "      <td>369600.0</td>\n",
       "      <td>369600.0</td>\n",
       "    </tr>\n",
       "    <tr>\n",
       "      <th>3</th>\n",
       "      <td>30.0</td>\n",
       "      <td>20.1</td>\n",
       "      <td>250.0</td>\n",
       "      <td>7.0</td>\n",
       "      <td>1055250.0</td>\n",
       "      <td>1055250.0</td>\n",
       "      <td>1055250.0</td>\n",
       "    </tr>\n",
       "    <tr>\n",
       "      <th>4</th>\n",
       "      <td>18.0</td>\n",
       "      <td>19.3</td>\n",
       "      <td>190.0</td>\n",
       "      <td>5.0</td>\n",
       "      <td>330030.0</td>\n",
       "      <td>330030.0</td>\n",
       "      <td>330030.0</td>\n",
       "    </tr>\n",
       "  </tbody>\n",
       "</table>\n",
       "</div>"
      ],
      "text/plain": [
       "      A     E      I    T     Energy   Energy_2   Energy_3\n",
       "0  20.0  18.5  200.0  6.0   444000.0   444000.0   444000.0\n",
       "1  15.0  21.2  180.0  8.0   457920.0   457920.0   457920.0\n",
       "2  25.0  16.8  220.0  4.0   369600.0   369600.0   369600.0\n",
       "3  30.0  20.1  250.0  7.0  1055250.0  1055250.0  1055250.0\n",
       "4  18.0  19.3  190.0  5.0   330030.0   330030.0   330030.0"
      ]
     },
     "execution_count": 141,
     "metadata": {},
     "output_type": "execute_result"
    }
   ],
   "source": [
    "df.head()"
   ]
  },
  {
   "cell_type": "code",
   "execution_count": 142,
   "metadata": {},
   "outputs": [],
   "source": [
    "# 10\n",
    "df.to_csv(\"newData.csv\", index=False)"
   ]
  },
  {
   "cell_type": "markdown",
   "metadata": {},
   "source": [
    "---\n",
    "### Python Labs (C) 2023 [BinatnaData](https://www.linkedin.com/company/100193879/) Corporation"
   ]
  },
  {
   "cell_type": "markdown",
   "metadata": {},
   "source": [
    "<p style=\"text-align:center\">\n",
    "    <a href=\"https://www.linkedin.com/company/100193879/\" target=\"_blank\">\n",
    "    <img src=\"https://raw.githubusercontent.com/binatnadata/event2-python-ERME_CLUB/main/assets/logo.png\" width=\"100\" height=\"100\" alt=\"Binatna Data Logo\"  />\n",
    "    </a>"
   ]
  }
 ],
 "metadata": {
  "kernelspec": {
   "display_name": "Python 3 (ipykernel)",
   "language": "python",
   "name": "python3"
  },
  "language_info": {
   "codemirror_mode": {
    "name": "ipython",
    "version": 3
   },
   "file_extension": ".py",
   "mimetype": "text/x-python",
   "name": "python",
   "nbconvert_exporter": "python",
   "pygments_lexer": "ipython3",
   "version": "3.9.17"
  }
 },
 "nbformat": 4,
 "nbformat_minor": 4
}
