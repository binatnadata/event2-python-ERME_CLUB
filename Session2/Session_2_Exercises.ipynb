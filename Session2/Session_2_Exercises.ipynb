{
  "metadata": {
    "kernelspec": {
      "name": "python",
      "display_name": "Python (Pyodide)",
      "language": "python"
    },
    "language_info": {
      "codemirror_mode": {
        "name": "python",
        "version": 3
      },
      "file_extension": ".py",
      "mimetype": "text/x-python",
      "name": "python",
      "nbconvert_exporter": "python",
      "pygments_lexer": "ipython3",
      "version": "3.8"
    }
  },
  "nbformat_minor": 4,
  "nbformat": 4,
  "cells": [
    {
      "cell_type": "markdown",
      "source": "<p style=\"text-align:center\">\n    <a href=\"https://github.com/binatnadata/event2-python-ERME_CLUB/tree/main\" target=\"_blank\">\n    <img src=\"https://raw.githubusercontent.com/binatnadata/event2-python-ERME_CLUB/main/assets/banner_head.jpeg\" width=\"800\" height=\"500\" alt=\"Collaboration banner\"  />\n    </a>\n</p>",
      "metadata": {}
    },
    {
      "cell_type": "markdown",
      "source": "## Python labs -By Binatna Data-\n- **Sessions of December 2023**\n- **Session of 16/12/2023**",
      "metadata": {}
    },
    {
      "cell_type": "markdown",
      "source": "<hr>\n<hr>",
      "metadata": {}
    },
    {
      "cell_type": "markdown",
      "source": "<p style=\"text-align:center\">\n    <a href=\"https://github.com/binatnadata/event2-python-ERME_CLUB/tree/main\" target=\"_blank\">\n    <img src=\"https://raw.githubusercontent.com/binatnadata/event2-python-ERME_CLUB/main/assets/1_vPezx00A1u0WAfS8e8wBXQ.webp\" width=\"400\" height=\"500\" alt=\"Numpy logo\"  />\n    </a>\n</p>",
      "metadata": {},
      "attachments": {}
    },
    {
      "cell_type": "markdown",
      "source": "1. Create a NumPy array `(arr1)` with values `[1, 2, 3, 4, 5]`.\n2. Create a NumPy array `(arr2)` with values `[10, 20, 30, 40, 50]`.\n3. Perform element-wise `multiplication` of `arr1` and `arr2`. Save the result in a new array `result_mult`.\n4. Create a 3x3 identity matrix `identity_matrix`.\n5. Check the `shape`, `size`, and `data type` of `arr1`.\n6. `Reshape` `arr2` into a `5x1` matrix and name it `reshaped_arr2`.\n7. Append a new element `6` to the end of `arr1` and name the new array `arr1_appended`.\n8. Insert a new element `25` at index `2` in `arr2` and name the new array `arr2_inserted`.\n9. Delete the element at index `3` in `arr1` and name the new array `arr1_deleted`.\n10. Delete the first row in identity_matrix and name the new array `identity_matrix_deleted`.\n11. Slice `arr1` to get elements `greater than 2` and name the result `arr1_slice_condition`.\n12. Slice `arr2` to get elements `between index 1 and 3` (inclusive) and name the `result arr2_slice_interval`.\n13. Concatenate `arr1` and `arr2` along a new axis and name the result `concatenated_arrays`.\n14. Generate an array `random_array` of `10` random integers `between 0 and 100`.\n15. Sample `3` random elements from `random_array` without `replacement`.\n16. Save `random_array` to a `CSV file` named `\"random_data.csv\"`.",
      "metadata": {}
    },
    {
      "cell_type": "code",
      "source": "import numpy as np\n\n# 1\narr1 = np.array([1, 2, 3, 4, 5])\nprint(\"Array 1 : \", arr1)\n\n# 2\narr2 = np.array([10, 20, 30, 40, 50])\nprint(\"Array 2 : \", arr2)\n\n# 3\nresult_mult = arr1 * arr2\nprint(\"The multiplication of arr1 and arr2: \", result_mult)\n\n\n# 4\nidentity_matrix = np.eye(3)\nprint(\"identity_matrix : \\n\", identity_matrix) \n\n#5\nprint(\"Shape of arr1: \", arr1.shape)\nprint(\"Size of arr1: \", arr1.size)\nprint(\"Data type of arr1: \", arr1.dtype)\n\n# 6\nreshaped_arr2 = arr2.reshape((5, 1))\nprint(\"reshaped_arr2 (5,1): \\n\", reshaped_arr2)\n\n# 7\narr1_appended = np.append(arr1, 6)\nprint(\"arr1_appended 6: \", arr1_appended)\n\n# 8\narr2_inserted = np.insert(arr2, 2, 25)\nprint(\"arr2_inserted (25 at index 2): \", arr2_inserted)\n\n# 9\narr1_deleted = np.delete(arr1, 3)\nprint(\"arr1_deleted (at index 3): \", arr1_deleted)\n\n# 10\nidentity_matrix_deleted = np.delete(identity_matrix, 0, axis=0)\nprint(\"identity_matrix_deleted (delete first row): \\n\", identity_matrix_deleted)\n\n# 11\narr1_slice_condition = arr1[arr1 > 2]\nprint(\"arr1_slice_condition (elements greater than 2): \", arr1_slice_condition)\n\n# 12\narr2_slice_interval = arr2[1:4]\nprint(\"arr2_slice_interval (elements between index 1 and 3 (inclusive)): \", arr2_slice_interval)\n\n# 13\nconcatenated_arrays = np.concatenate((arr1, arr2), axis=None)\nprint(\"concatenated_arrays (Concatenate arr1 and arr2): \", concatenated_arrays)\n\n# 14\nrandom_array = np.random.randint(0, 101, size=10)\nprint(\"random_array (random_array of 10 random): \", random_array)\n\n# 15\nrandom_samples = np.random.choice(random_array, size=3, replace=False)\nprint(\"random_samples (3 random elements): \", random_samples)\n\n# 16\nnp.savetxt('random_data.csv', random_array, delimiter=',')\nprint(\"random_data.csv saved successfully.\")\n\n# 17\nloaded_array = np.loadtxt('random_data.csv', delimiter=',')\n\n# 18\nloaded_array_sum = np.sum(loaded_array)\nloaded_array_cumsum = np.cumsum(loaded_array)\nloaded_array_mean = np.mean(loaded_array)\n\n# 19\ncolumn_means_identity = np.mean(identity_matrix_deleted, axis=0)\nprint(\"column_means_identity: \\n\",column_means_identity)\n\n# 20\nresults=np.array([loaded_array_sum, loaded_array_mean])\nprint(\"results : \", results)\nnp.savetxt('results.csv', results)\nprint(\"results.csv saved successfully.\")",
      "metadata": {
        "trusted": true
      },
      "outputs": [
        {
          "name": "stdout",
          "text": "Array 1 :  [1 2 3 4 5]\nArray 2 :  [10 20 30 40 50]\nThe multiplication of arr1 and arr2:  [ 10  40  90 160 250]\nidentity_matrix : \n [[1. 0. 0.]\n [0. 1. 0.]\n [0. 0. 1.]]\nShape of arr1:  (5,)\nSize of arr1:  5\nData type of arr1:  int32\nreshaped_arr2 (5,1): \n [[10]\n [20]\n [30]\n [40]\n [50]]\narr1_appended 6:  [1 2 3 4 5 6]\narr2_inserted (25 at index 2):  [10 20 25 30 40 50]\narr1_deleted (at index 3):  [1 2 3 5]\nidentity_matrix_deleted (delete first row): \n [[0. 1. 0.]\n [0. 0. 1.]]\narr1_slice_condition (elements greater than 2):  [3 4 5]\narr2_slice_interval (elements between index 1 and 3 (inclusive)):  [20 30 40]\nconcatenated_arrays (Concatenate arr1 and arr2):  [ 1  2  3  4  5 10 20 30 40 50]\nrandom_array (random_array of 10 random):  [58 38 57 53 33 61 86  3 62 93]\nrandom_samples (3 random elements):  [ 3 33 58]\nrandom_data.csv saved successfully.\ncolumn_means_identity: \n [0.  0.5 0.5]\nresults :  [544.   54.4]\nresults.csv saved successfully.\n",
          "output_type": "stream"
        }
      ],
      "execution_count": 1
    },
    {
      "cell_type": "markdown",
      "source": "# Exercise 2: Solar Energy Calculation",
      "metadata": {}
    },
    {
      "cell_type": "markdown",
      "source": "<p style=\"text-align:center\">\n    <img src=\"https://th.bing.com/th/id/R.b3c79851427a8a55723fe3827b31abec?rik=hhIrP8ict8gxIw&riu=http%3a%2f%2fnews.delaware.gov%2ffiles%2f2012%2f03%2fMotech-Solar-Panel-floating.jpg&ehk=Q3uAu91jOrnoGRCY6%2bd9acDMq6CEzBIKGJLdw9zD5B0%3d&risl=&pid=ImgRaw&r=0\" width=\"500\" height=\"200\" alt=\"Solar Energy\"  />\n</p>",
      "metadata": {}
    },
    {
      "cell_type": "markdown",
      "source": "$$\nE = A \\times \\eta \\times I \\times t\n$$\n",
      "metadata": {}
    },
    {
      "cell_type": "markdown",
      "source": "1. Develop a script that utilizes the `pandas` library to read the contents of the csv file named `\"solar_energy_data_by_binatnaData.csv\"` into a DataFrame, and assign it the variable name `df`.\n2. Display the first and last few rows of the DataFrame using the `head()` and `tail()` functions, and the column names. \n3. Rename the columns by the following names : `A, E, I, T`\n4. Determine and print the `count of missing (NaN) values` for each column in the DataFrame.\n5. Eliminate the `rows containing NaN values` from the DataFrame.\n6. Check for `duplicate rows` in the DataFrame using the `duplicated()` method.\n7. Calculate the Energy for each row by applying the formula: `Energy = Solar Panel Area * Solar Panel Efficiency * Solar Irradiance * Time`.\n8. Calculate the energy for each row by applying the same `formula`, this time using a `function` that takes 4 `arguments`: A (Area), E (Efficiency), I (Irradiance), T (Time), then the function returns the calculated Energy. \n9. Introduce a new column in the DataFrame, naming it `\"Energy\"` and populate it with the calculated energy values.\n9. Save the modified DataFrame with the additional `Energy` column to a `new csv file`.",
      "metadata": {}
    }
    
  ]
}
