{
  "metadata": {
    "kernelspec": {
      "name": "python",
      "display_name": "Python (Pyodide)",
      "language": "python"
    },
    "language_info": {
      "codemirror_mode": {
        "name": "python",
        "version": 3
      },
      "file_extension": ".py",
      "mimetype": "text/x-python",
      "name": "python",
      "nbconvert_exporter": "python",
      "pygments_lexer": "ipython3",
      "version": "3.8"
    }
  },
  "nbformat_minor": 4,
  "nbformat": 4,
  "cells": [
    {
      "cell_type": "markdown",
      "source": "<p style=\"text-align:center\">\n    <a href=\"https://github.com/binatnadata/event2-python-ERME_CLUB/tree/main\" target=\"_blank\">\n    <img src=\"https://raw.githubusercontent.com/binatnadata/event2-python-ERME_CLUB/main/assets/banner_head.jpeg\" width=\"800\" height=\"500\" alt=\"Collaboration banner\"  />\n    </a>\n</p>",
      "metadata": {}
    },
    {
      "cell_type": "markdown",
      "source": "## Python labs -By Binatna Data-\n- **Sessions of December 2023**\n- **Session of 16/12/2023**",
      "metadata": {}
    },
    {
      "cell_type": "markdown",
      "source": "<hr>\n<hr>",
      "metadata": {}
    },
    {
      "cell_type": "markdown",
      "source": "<p style=\"text-align:center\">\n    <a href=\"https://github.com/binatnadata/event2-python-ERME_CLUB/tree/main\" target=\"_blank\">\n    <img src=\"https://raw.githubusercontent.com/binatnadata/event2-python-ERME_CLUB/main/assets/1_vPezx00A1u0WAfS8e8wBXQ.webp\" width=\"400\" height=\"500\" alt=\"Numpy logo\"  />\n    </a>\n</p>",
      "metadata": {},
      "attachments": {}
    },
    {
      "cell_type": "markdown",
      "source": "1. Create a NumPy array `(arr1)` with values `[1, 2, 3, 4, 5]`.\n2. Create a NumPy array `(arr2)` with values `[10, 20, 30, 40, 50]`.\n3. Perform element-wise `multiplication` of `arr1` and `arr2`. Save the result in a new array `result_mult`.\n4. Create a 3x3 identity matrix `identity_matrix`.\n5. Check the `shape`, `size`, and `data type` of `arr1`.\n6. `Reshape` `arr2` into a `5x1` matrix and name it `reshaped_arr2`.\n7. Append a new element `6` to the end of `arr1` and name the new array `arr1_appended`.\n8. Insert a new element `25` at index `2` in `arr2` and name the new array `arr2_inserted`.\n9. Delete the element at index `3` in `arr1` and name the new array `arr1_deleted`.\n10. Delete the first row in identity_matrix and name the new array `identity_matrix_deleted`.\n11. Slice `arr1` to get elements `greater than 2` and name the result `arr1_slice_condition`.\n12. Slice `arr2` to get elements `between index 1 and 3` (inclusive) and name the `result arr2_slice_interval`.\n13. Concatenate `arr1` and `arr2` along a new axis and name the result `concatenated_arrays`.\n14. Generate an array `random_array` of `10` random integers `between 0 and 100`.\n15. Sample `3` random elements from `random_array` without `replacement`.\n16. Save `random_array` to a `CSV file` named `\"random_data.csv\"`.",
      "metadata": {}
    },
  
    {
      "cell_type": "markdown",
      "source": "# Exercise 2: Solar Energy Calculation",
      "metadata": {}
    },
    {
      "cell_type": "markdown",
      "source": "<p style=\"text-align:center\">\n    <img src=\"https://th.bing.com/th/id/R.b3c79851427a8a55723fe3827b31abec?rik=hhIrP8ict8gxIw&riu=http%3a%2f%2fnews.delaware.gov%2ffiles%2f2012%2f03%2fMotech-Solar-Panel-floating.jpg&ehk=Q3uAu91jOrnoGRCY6%2bd9acDMq6CEzBIKGJLdw9zD5B0%3d&risl=&pid=ImgRaw&r=0\" width=\"500\" height=\"200\" alt=\"Solar Energy\"  />\n</p>",
      "metadata": {}
    },
    {
      "cell_type": "markdown",
      "source": "$$\nE = A \\times \\eta \\times I \\times t\n$$\n",
      "metadata": {}
    },
    {
      "cell_type": "markdown",
      "source": "1. Develop a script that utilizes the `pandas` library to read the contents of the csv file named `\"solar_energy_data_by_binatnaData.csv\"` into a DataFrame, and assign it the variable name `df`.\n2. Display the first and last few rows of the DataFrame using the `head()` and `tail()` functions, and the column names. \n3. Rename the columns by the following names : `A, E, I, T`\n4. Determine and print the `count of missing (NaN) values` for each column in the DataFrame.\n5. Eliminate the `rows containing NaN values` from the DataFrame.\n6. Check for `duplicate rows` in the DataFrame using the `duplicated()` method.\n7. Calculate the Energy for each row by applying the formula: `Energy = Solar Panel Area * Solar Panel Efficiency * Solar Irradiance * Time`.\n8. Calculate the energy for each row by applying the same `formula`, this time using a `function` that takes 4 `arguments`: A (Area), E (Efficiency), I (Irradiance), T (Time), then the function returns the calculated Energy. \n9. Introduce a new column in the DataFrame, naming it `\"Energy\"` and populate it with the calculated energy values.\n9. Save the modified DataFrame with the additional `Energy` column to a `new csv file`.",
      "metadata": {}
    }
    
  ]
}
