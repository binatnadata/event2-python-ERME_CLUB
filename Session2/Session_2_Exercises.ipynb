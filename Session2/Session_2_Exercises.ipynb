{
  "metadata": {
    "kernelspec": {
      "name": "python",
      "display_name": "Python (Pyodide)",
      "language": "python"
    },
    "language_info": {
      "codemirror_mode": {
        "name": "python",
        "version": 3
      },
      "file_extension": ".py",
      "mimetype": "text/x-python",
      "name": "python",
      "nbconvert_exporter": "python",
      "pygments_lexer": "ipython3",
      "version": "3.8"
    }
  },
  "nbformat_minor": 4,
  "nbformat": 4,
  "cells": [
    {
      "cell_type": "markdown",
      "source": "<p style=\"text-align:center\">\n    <a href=\"https://github.com/binatnadata/event2-python-ERME_CLUB/tree/main\" target=\"_blank\">\n    <img src=\"https://raw.githubusercontent.com/binatnadata/event2-python-ERME_CLUB/main/assets/banner_head.jpeg\" width=\"800\" height=\"500\" alt=\"Collaboration banner\"  />\n    </a>\n</p>",
      "metadata": {}
    },
    {
      "cell_type": "markdown",
      "source": "## Python labs -By Binatna Data-\n- **Sessions of December 2023**\n- **Session of 16/12/2023**",
      "metadata": {}
    },
    {
      "cell_type": "markdown",
      "source": "<hr>\n<hr>",
      "metadata": {}
    },
    {
      "cell_type": "markdown",
      "source": "<p style=\"text-align:center\">\n    <a href=\"https://github.com/binatnadata/event2-python-ERME_CLUB/tree/main\" target=\"_blank\">\n    <img src=\"https://raw.githubusercontent.com/binatnadata/event2-python-ERME_CLUB/main/assets/1_vPezx00A1u0WAfS8e8wBXQ.webp\" width=\"400\" height=\"500\" alt=\"Numpy logo\"  />\n    </a>\n</p>",
      "metadata": {},
      "attachments": {}
    },
    {
      "cell_type": "markdown",
      "source": "1. Create a NumPy array `(arr1)` with values `[1, 2, 3, 4, 5]`.\n2. Create a NumPy array `(arr2)` with values `[10, 20, 30, 40, 50]`.\n3. Perform element-wise `multiplication` of `arr1` and `arr2`. Save the result in a new array `result_mult`.\n4. Create a 3x3 identity matrix `identity_matrix`.\n5. Check the `shape`, `size`, and `data type` of `arr1`.\n6. `Reshape` `arr2` into a `5x1` matrix and name it `reshaped_arr2`.\n7. Append a new element `6` to the end of `arr1` and name the new array `arr1_appended`.\n8. Insert a new element `25` at index `2` in `arr2` and name the new array `arr2_inserted`.\n9. Delete the element at index `3` in `arr1` and name the new array `arr1_deleted`.\n10. Delete the first row in identity_matrix and name the new array `identity_matrix_deleted`.\n11. Slice `arr1` to get elements `greater than 2` and name the result `arr1_slice_condition`.\n12. Slice `arr2` to get elements `between index 1 and 3` (inclusive) and name the `result arr2_slice_interval`.\n13. Concatenate `arr1` and `arr2` along a new axis and name the result `concatenated_arrays`.\n14. Generate an array `random_array` of `10` random integers `between 0 and 100`.\n15. Sample `3` random elements from `random_array` without `replacement`.\n16. Save `random_array` to a `CSV file` named `\"random_data.csv\"`.",
      "metadata": {}
    },
    {
      "cell_type": "code",
      "source": "import numpy as np\n\n# 1\narr1 = np.array([1, 2, 3, 4, 5])\nprint(\"Array 1 : \", arr1)\n\n# 2\narr2 = np.array([10, 20, 30, 40, 50])\nprint(\"Array 2 : \", arr2)\n\n# 3\nresult_mult = arr1 * arr2\nprint(\"The multiplication of arr1 and arr2: \", result_mult)\n\n\n# 4\nidentity_matrix = np.eye(3)\nprint(\"identity_matrix : \\n\", identity_matrix) \n\n#5\nprint(\"Shape of arr1: \", arr1.shape)\nprint(\"Size of arr1: \", arr1.size)\nprint(\"Data type of arr1: \", arr1.dtype)\n\n# 6\nreshaped_arr2 = arr2.reshape((5, 1))\nprint(\"reshaped_arr2 (5,1): \\n\", reshaped_arr2)\n\n# 7\narr1_appended = np.append(arr1, 6)\nprint(\"arr1_appended 6: \", arr1_appended)\n\n# 8\narr2_inserted = np.insert(arr2, 2, 25)\nprint(\"arr2_inserted (25 at index 2): \", arr2_inserted)\n\n# 9\narr1_deleted = np.delete(arr1, 3)\nprint(\"arr1_deleted (at index 3): \", arr1_deleted)\n\n# 10\nidentity_matrix_deleted = np.delete(identity_matrix, 0, axis=0)\nprint(\"identity_matrix_deleted (delete first row): \\n\", identity_matrix_deleted)\n\n# 11\narr1_slice_condition = arr1[arr1 > 2]\nprint(\"arr1_slice_condition (elements greater than 2): \", arr1_slice_condition)\n\n# 12\narr2_slice_interval = arr2[1:4]\nprint(\"arr2_slice_interval (elements between index 1 and 3 (inclusive)): \", arr2_slice_interval)\n\n# 13\nconcatenated_arrays = np.concatenate((arr1, arr2), axis=None)\nprint(\"concatenated_arrays (Concatenate arr1 and arr2): \", concatenated_arrays)\n\n# 14\nrandom_array = np.random.randint(0, 101, size=10)\nprint(\"random_array (random_array of 10 random): \", random_array)\n\n# 15\nrandom_samples = np.random.choice(random_array, size=3, replace=False)\nprint(\"random_samples (3 random elements): \", random_samples)\n\n# 16\nnp.savetxt('random_data.csv', random_array, delimiter=',')\nprint(\"random_data.csv saved successfully.\")\n\n# 17\nloaded_array = np.loadtxt('random_data.csv', delimiter=',')\n\n# 18\nloaded_array_sum = np.sum(loaded_array)\nloaded_array_cumsum = np.cumsum(loaded_array)\nloaded_array_mean = np.mean(loaded_array)\n\n# 19\ncolumn_means_identity = np.mean(identity_matrix_deleted, axis=0)\nprint(\"column_means_identity: \\n\",column_means_identity)\n\n# 20\nresults=np.array([loaded_array_sum, loaded_array_mean])\nprint(\"results : \", results)\nnp.savetxt('results.csv', results)\nprint(\"results.csv saved successfully.\")",
      "metadata": {
        "trusted": true
      },
      "outputs": [
        {
          "name": "stdout",
          "text": "Array 1 :  [1 2 3 4 5]\nArray 2 :  [10 20 30 40 50]\nThe multiplication of arr1 and arr2:  [ 10  40  90 160 250]\nidentity_matrix : \n [[1. 0. 0.]\n [0. 1. 0.]\n [0. 0. 1.]]\nShape of arr1:  (5,)\nSize of arr1:  5\nData type of arr1:  int32\nreshaped_arr2 (5,1): \n [[10]\n [20]\n [30]\n [40]\n [50]]\narr1_appended 6:  [1 2 3 4 5 6]\narr2_inserted (25 at index 2):  [10 20 25 30 40 50]\narr1_deleted (at index 3):  [1 2 3 5]\nidentity_matrix_deleted (delete first row): \n [[0. 1. 0.]\n [0. 0. 1.]]\narr1_slice_condition (elements greater than 2):  [3 4 5]\narr2_slice_interval (elements between index 1 and 3 (inclusive)):  [20 30 40]\nconcatenated_arrays (Concatenate arr1 and arr2):  [ 1  2  3  4  5 10 20 30 40 50]\nrandom_array (random_array of 10 random):  [58 38 57 53 33 61 86  3 62 93]\nrandom_samples (3 random elements):  [ 3 33 58]\nrandom_data.csv saved successfully.\ncolumn_means_identity: \n [0.  0.5 0.5]\nresults :  [544.   54.4]\nresults.csv saved successfully.\n",
          "output_type": "stream"
        }
      ],
      "execution_count": 1
    },
    {
      "cell_type": "markdown",
      "source": "# Exercise 2: Solar Energy Calculation",
      "metadata": {}
    },
    {
      "cell_type": "markdown",
      "source": "<p style=\"text-align:center\">\n    <img src=\"https://th.bing.com/th/id/R.b3c79851427a8a55723fe3827b31abec?rik=hhIrP8ict8gxIw&riu=http%3a%2f%2fnews.delaware.gov%2ffiles%2f2012%2f03%2fMotech-Solar-Panel-floating.jpg&ehk=Q3uAu91jOrnoGRCY6%2bd9acDMq6CEzBIKGJLdw9zD5B0%3d&risl=&pid=ImgRaw&r=0\" width=\"500\" height=\"200\" alt=\"Solar Energy\"  />\n</p>",
      "metadata": {}
    },
    {
      "cell_type": "markdown",
      "source": "$$\nE = A \\times \\eta \\times I \\times t\n$$\n",
      "metadata": {}
    },
    {
      "cell_type": "markdown",
      "source": "1. Develop a script that utilizes the `pandas` library to read the contents of the csv file named `\"solar_energy_data_by_binatnaData.csv\"` into a DataFrame, and assign it the variable name `df`.\n2. Display the first and last few rows of the DataFrame using the `head()` and `tail()` functions, and the column names. \n3. Rename the columns by the following names : `A, E, I, T`\n4. Determine and print the `count of missing (NaN) values` for each column in the DataFrame.\n5. Eliminate the `rows containing NaN values` from the DataFrame.\n6. Check for `duplicate rows` in the DataFrame using the `duplicated()` method.\n7. Calculate the Energy for each row by applying the formula: `Energy = Solar Panel Area * Solar Panel Efficiency * Solar Irradiance * Time`.\n8. Calculate the energy for each row by applying the same `formula`, this time using a `function` that takes 4 `arguments`: A (Area), E (Efficiency), I (Irradiance), T (Time), then the function returns the calculated Energy. \n9. Introduce a new column in the DataFrame, naming it `\"Energy\"` and populate it with the calculated energy values.\n9. Save the modified DataFrame with the additional `Energy` column to a `new csv file`.",
      "metadata": {}
    },
    {
      "cell_type": "code",
      "source": "import pandas as pd\nimport numpy as np\n\n#read the csv file\ndf = pd.read_csv(\"solar_energy_data_by_binatnaData.csv\")",
      "metadata": {
        "trusted": true
      },
      "outputs": [],
      "execution_count": 2
    },
    {
      "cell_type": "code",
      "source": "df.head()",
      "metadata": {
        "trusted": true
      },
      "outputs": [
        {
          "execution_count": 3,
          "output_type": "execute_result",
          "data": {
            "text/plain": "    Solar Panel Area   Solar Panel Efficiency    Solar Irradiance   \\\n0               20.0                      18.5               200.0   \n1               15.0                      21.2               180.0   \n2               25.0                      16.8               220.0   \n3               30.0                      20.1               250.0   \n4               18.0                      19.3               190.0   \n\n    Time in Hour   \n0             6.0  \n1             8.0  \n2             4.0  \n3             7.0  \n4             5.0  ",
            "text/html": "<div>\n<style scoped>\n    .dataframe tbody tr th:only-of-type {\n        vertical-align: middle;\n    }\n\n    .dataframe tbody tr th {\n        vertical-align: top;\n    }\n\n    .dataframe thead th {\n        text-align: right;\n    }\n</style>\n<table border=\"1\" class=\"dataframe\">\n  <thead>\n    <tr style=\"text-align: right;\">\n      <th></th>\n      <th>Solar Panel Area</th>\n      <th>Solar Panel Efficiency</th>\n      <th>Solar Irradiance</th>\n      <th>Time in Hour</th>\n    </tr>\n  </thead>\n  <tbody>\n    <tr>\n      <th>0</th>\n      <td>20.0</td>\n      <td>18.5</td>\n      <td>200.0</td>\n      <td>6.0</td>\n    </tr>\n    <tr>\n      <th>1</th>\n      <td>15.0</td>\n      <td>21.2</td>\n      <td>180.0</td>\n      <td>8.0</td>\n    </tr>\n    <tr>\n      <th>2</th>\n      <td>25.0</td>\n      <td>16.8</td>\n      <td>220.0</td>\n      <td>4.0</td>\n    </tr>\n    <tr>\n      <th>3</th>\n      <td>30.0</td>\n      <td>20.1</td>\n      <td>250.0</td>\n      <td>7.0</td>\n    </tr>\n    <tr>\n      <th>4</th>\n      <td>18.0</td>\n      <td>19.3</td>\n      <td>190.0</td>\n      <td>5.0</td>\n    </tr>\n  </tbody>\n</table>\n</div>"
          },
          "metadata": {}
        }
      ],
      "execution_count": 3
    },
    {
      "cell_type": "code",
      "source": "df.tail()",
      "metadata": {
        "trusted": true
      },
      "outputs": [
        {
          "execution_count": 4,
          "output_type": "execute_result",
          "data": {
            "text/plain": "     Solar Panel Area   Solar Panel Efficiency    Solar Irradiance   \\\n28               11.0                      21.0               170.0   \n29               25.0                      19.7               220.0   \n30               37.0                      17.9               240.0   \n31               15.0                      20.2               190.0   \n32               28.0                      16.7               260.0   \n\n     Time in Hour   \n28             8.0  \n29             5.0  \n30             7.0  \n31             4.0  \n32            10.0  ",
            "text/html": "<div>\n<style scoped>\n    .dataframe tbody tr th:only-of-type {\n        vertical-align: middle;\n    }\n\n    .dataframe tbody tr th {\n        vertical-align: top;\n    }\n\n    .dataframe thead th {\n        text-align: right;\n    }\n</style>\n<table border=\"1\" class=\"dataframe\">\n  <thead>\n    <tr style=\"text-align: right;\">\n      <th></th>\n      <th>Solar Panel Area</th>\n      <th>Solar Panel Efficiency</th>\n      <th>Solar Irradiance</th>\n      <th>Time in Hour</th>\n    </tr>\n  </thead>\n  <tbody>\n    <tr>\n      <th>28</th>\n      <td>11.0</td>\n      <td>21.0</td>\n      <td>170.0</td>\n      <td>8.0</td>\n    </tr>\n    <tr>\n      <th>29</th>\n      <td>25.0</td>\n      <td>19.7</td>\n      <td>220.0</td>\n      <td>5.0</td>\n    </tr>\n    <tr>\n      <th>30</th>\n      <td>37.0</td>\n      <td>17.9</td>\n      <td>240.0</td>\n      <td>7.0</td>\n    </tr>\n    <tr>\n      <th>31</th>\n      <td>15.0</td>\n      <td>20.2</td>\n      <td>190.0</td>\n      <td>4.0</td>\n    </tr>\n    <tr>\n      <th>32</th>\n      <td>28.0</td>\n      <td>16.7</td>\n      <td>260.0</td>\n      <td>10.0</td>\n    </tr>\n  </tbody>\n</table>\n</div>"
          },
          "metadata": {}
        }
      ],
      "execution_count": 4
    },
    {
      "cell_type": "code",
      "source": "# list the column names\ndf.columns",
      "metadata": {
        "trusted": true
      },
      "outputs": [
        {
          "execution_count": 5,
          "output_type": "execute_result",
          "data": {
            "text/plain": "Index([' Solar Panel Area', ' Solar Panel Efficiency ', ' Solar Irradiance ',\n       ' Time in Hour '],\n      dtype='object')"
          },
          "metadata": {}
        }
      ],
      "execution_count": 5
    },
    {
      "cell_type": "code",
      "source": "# rename columns\ndf.rename(columns = {' Solar Panel Area': 'A',\n                     ' Solar Panel Efficiency ': 'E',\n                     ' Solar Irradiance ' : 'I',\n                     ' Time in Hour ' : 'T'\n                    }, inplace=True)",
      "metadata": {
        "trusted": true
      },
      "outputs": [],
      "execution_count": 6
    },
    {
      "cell_type": "code",
      "source": "# count the number of nan values for each column\ndf.isnull().sum()",
      "metadata": {
        "trusted": true
      },
      "outputs": [
        {
          "execution_count": 7,
          "output_type": "execute_result",
          "data": {
            "text/plain": "A    1\nE    1\nI    2\nT    2\ndtype: int64"
          },
          "metadata": {}
        }
      ],
      "execution_count": 7
    },
    {
      "cell_type": "code",
      "source": "# drop nan values \ndf.dropna(axis=0, inplace=True)",
      "metadata": {
        "trusted": true
      },
      "outputs": [],
      "execution_count": 8
    },
    {
      "cell_type": "code",
      "source": "# check if nan values are deleted\ndf.isnull().sum()",
      "metadata": {
        "trusted": true
      },
      "outputs": [
        {
          "execution_count": 9,
          "output_type": "execute_result",
          "data": {
            "text/plain": "A    0\nE    0\nI    0\nT    0\ndtype: int64"
          },
          "metadata": {}
        }
      ],
      "execution_count": 9
    },
    {
      "cell_type": "code",
      "source": "# count the number of duplicated rows\ndf.duplicated().sum()",
      "metadata": {
        "trusted": true
      },
      "outputs": [
        {
          "execution_count": 10,
          "output_type": "execute_result",
          "data": {
            "text/plain": "0"
          },
          "metadata": {}
        }
      ],
      "execution_count": 10
    },
    {
      "cell_type": "code",
      "source": "# drop duplicated rows\ndf.drop_duplicates(inplace=True)",
      "metadata": {
        "trusted": true
      },
      "outputs": [],
      "execution_count": 11
    },
    {
      "cell_type": "code",
      "source": "# calculate energy without using function\ndf['Energy'] = df['A'] * df['E'] * df['I'] * df['T']",
      "metadata": {
        "trusted": true
      },
      "outputs": [],
      "execution_count": 12
    },
    {
      "cell_type": "code",
      "source": "df.head()",
      "metadata": {
        "trusted": true
      },
      "outputs": [
        {
          "execution_count": 13,
          "output_type": "execute_result",
          "data": {
            "text/plain": "      A     E      I    T     Energy\n0  20.0  18.5  200.0  6.0   444000.0\n1  15.0  21.2  180.0  8.0   457920.0\n2  25.0  16.8  220.0  4.0   369600.0\n3  30.0  20.1  250.0  7.0  1055250.0\n4  18.0  19.3  190.0  5.0   330030.0",
            "text/html": "<div>\n<style scoped>\n    .dataframe tbody tr th:only-of-type {\n        vertical-align: middle;\n    }\n\n    .dataframe tbody tr th {\n        vertical-align: top;\n    }\n\n    .dataframe thead th {\n        text-align: right;\n    }\n</style>\n<table border=\"1\" class=\"dataframe\">\n  <thead>\n    <tr style=\"text-align: right;\">\n      <th></th>\n      <th>A</th>\n      <th>E</th>\n      <th>I</th>\n      <th>T</th>\n      <th>Energy</th>\n    </tr>\n  </thead>\n  <tbody>\n    <tr>\n      <th>0</th>\n      <td>20.0</td>\n      <td>18.5</td>\n      <td>200.0</td>\n      <td>6.0</td>\n      <td>444000.0</td>\n    </tr>\n    <tr>\n      <th>1</th>\n      <td>15.0</td>\n      <td>21.2</td>\n      <td>180.0</td>\n      <td>8.0</td>\n      <td>457920.0</td>\n    </tr>\n    <tr>\n      <th>2</th>\n      <td>25.0</td>\n      <td>16.8</td>\n      <td>220.0</td>\n      <td>4.0</td>\n      <td>369600.0</td>\n    </tr>\n    <tr>\n      <th>3</th>\n      <td>30.0</td>\n      <td>20.1</td>\n      <td>250.0</td>\n      <td>7.0</td>\n      <td>1055250.0</td>\n    </tr>\n    <tr>\n      <th>4</th>\n      <td>18.0</td>\n      <td>19.3</td>\n      <td>190.0</td>\n      <td>5.0</td>\n      <td>330030.0</td>\n    </tr>\n  </tbody>\n</table>\n</div>"
          },
          "metadata": {}
        }
      ],
      "execution_count": 13
    },
    {
      "cell_type": "code",
      "source": "# define the calculate energy function\ndef calculate_energy(A, E, I, T):\n    return A*E*I*T\n\n# init a list to store energies \nenergy_list = []\nfor index, row in df.iterrows(): # iterrows to iterate the df row by row\n    temp_A = row[\"A\"]\n    temp_E = row[\"E\"]\n    temp_I = row[\"I\"]\n    temp_T = row[\"T\"]\n    temp_E = calculate_energy(temp_A, temp_E, temp_I, temp_T)\n    energy_list.append(temp_E)\n\n# create new column \ndf[\"Energy_2\"] = energy_list",
      "metadata": {
        "trusted": true
      },
      "outputs": [],
      "execution_count": 14
    },
    {
      "cell_type": "code",
      "source": "# dusplay the resulted df\ndf.head()",
      "metadata": {
        "trusted": true
      },
      "outputs": [
        {
          "execution_count": 15,
          "output_type": "execute_result",
          "data": {
            "text/plain": "      A     E      I    T     Energy   Energy_2\n0  20.0  18.5  200.0  6.0   444000.0   444000.0\n1  15.0  21.2  180.0  8.0   457920.0   457920.0\n2  25.0  16.8  220.0  4.0   369600.0   369600.0\n3  30.0  20.1  250.0  7.0  1055250.0  1055250.0\n4  18.0  19.3  190.0  5.0   330030.0   330030.0",
            "text/html": "<div>\n<style scoped>\n    .dataframe tbody tr th:only-of-type {\n        vertical-align: middle;\n    }\n\n    .dataframe tbody tr th {\n        vertical-align: top;\n    }\n\n    .dataframe thead th {\n        text-align: right;\n    }\n</style>\n<table border=\"1\" class=\"dataframe\">\n  <thead>\n    <tr style=\"text-align: right;\">\n      <th></th>\n      <th>A</th>\n      <th>E</th>\n      <th>I</th>\n      <th>T</th>\n      <th>Energy</th>\n      <th>Energy_2</th>\n    </tr>\n  </thead>\n  <tbody>\n    <tr>\n      <th>0</th>\n      <td>20.0</td>\n      <td>18.5</td>\n      <td>200.0</td>\n      <td>6.0</td>\n      <td>444000.0</td>\n      <td>444000.0</td>\n    </tr>\n    <tr>\n      <th>1</th>\n      <td>15.0</td>\n      <td>21.2</td>\n      <td>180.0</td>\n      <td>8.0</td>\n      <td>457920.0</td>\n      <td>457920.0</td>\n    </tr>\n    <tr>\n      <th>2</th>\n      <td>25.0</td>\n      <td>16.8</td>\n      <td>220.0</td>\n      <td>4.0</td>\n      <td>369600.0</td>\n      <td>369600.0</td>\n    </tr>\n    <tr>\n      <th>3</th>\n      <td>30.0</td>\n      <td>20.1</td>\n      <td>250.0</td>\n      <td>7.0</td>\n      <td>1055250.0</td>\n      <td>1055250.0</td>\n    </tr>\n    <tr>\n      <th>4</th>\n      <td>18.0</td>\n      <td>19.3</td>\n      <td>190.0</td>\n      <td>5.0</td>\n      <td>330030.0</td>\n      <td>330030.0</td>\n    </tr>\n  </tbody>\n</table>\n</div>"
          },
          "metadata": {}
        }
      ],
      "execution_count": 15
    },
    {
      "cell_type": "code",
      "source": "# second method to calculate the energy, optimized\ndef calculate_energy_by_row(row):\n    return row['A'] * row['E'] * row['I'] * row['T']\n\ndf[\"Energy_3\"] = df.apply(calculate_energy_by_row, axis=1)",
      "metadata": {
        "trusted": true
      },
      "outputs": [],
      "execution_count": 16
    },
    {
      "cell_type": "code",
      "source": "df.head()",
      "metadata": {
        "trusted": true
      },
      "outputs": [
        {
          "execution_count": 17,
          "output_type": "execute_result",
          "data": {
            "text/plain": "      A     E      I    T     Energy   Energy_2   Energy_3\n0  20.0  18.5  200.0  6.0   444000.0   444000.0   444000.0\n1  15.0  21.2  180.0  8.0   457920.0   457920.0   457920.0\n2  25.0  16.8  220.0  4.0   369600.0   369600.0   369600.0\n3  30.0  20.1  250.0  7.0  1055250.0  1055250.0  1055250.0\n4  18.0  19.3  190.0  5.0   330030.0   330030.0   330030.0",
            "text/html": "<div>\n<style scoped>\n    .dataframe tbody tr th:only-of-type {\n        vertical-align: middle;\n    }\n\n    .dataframe tbody tr th {\n        vertical-align: top;\n    }\n\n    .dataframe thead th {\n        text-align: right;\n    }\n</style>\n<table border=\"1\" class=\"dataframe\">\n  <thead>\n    <tr style=\"text-align: right;\">\n      <th></th>\n      <th>A</th>\n      <th>E</th>\n      <th>I</th>\n      <th>T</th>\n      <th>Energy</th>\n      <th>Energy_2</th>\n      <th>Energy_3</th>\n    </tr>\n  </thead>\n  <tbody>\n    <tr>\n      <th>0</th>\n      <td>20.0</td>\n      <td>18.5</td>\n      <td>200.0</td>\n      <td>6.0</td>\n      <td>444000.0</td>\n      <td>444000.0</td>\n      <td>444000.0</td>\n    </tr>\n    <tr>\n      <th>1</th>\n      <td>15.0</td>\n      <td>21.2</td>\n      <td>180.0</td>\n      <td>8.0</td>\n      <td>457920.0</td>\n      <td>457920.0</td>\n      <td>457920.0</td>\n    </tr>\n    <tr>\n      <th>2</th>\n      <td>25.0</td>\n      <td>16.8</td>\n      <td>220.0</td>\n      <td>4.0</td>\n      <td>369600.0</td>\n      <td>369600.0</td>\n      <td>369600.0</td>\n    </tr>\n    <tr>\n      <th>3</th>\n      <td>30.0</td>\n      <td>20.1</td>\n      <td>250.0</td>\n      <td>7.0</td>\n      <td>1055250.0</td>\n      <td>1055250.0</td>\n      <td>1055250.0</td>\n    </tr>\n    <tr>\n      <th>4</th>\n      <td>18.0</td>\n      <td>19.3</td>\n      <td>190.0</td>\n      <td>5.0</td>\n      <td>330030.0</td>\n      <td>330030.0</td>\n      <td>330030.0</td>\n    </tr>\n  </tbody>\n</table>\n</div>"
          },
          "metadata": {}
        }
      ],
      "execution_count": 17
    },
    {
      "cell_type": "code",
      "source": "df.to_csv(\"newData.csv\", index=False)",
      "metadata": {
        "trusted": true
      },
      "outputs": [],
      "execution_count": 18
    },
    {
      "cell_type": "markdown",
      "source": "---\n### Python Labs (C) 2023 [BinatnaData](https://www.linkedin.com/company/100193879/) Corporation",
      "metadata": {}
    },
    {
      "cell_type": "markdown",
      "source": "<p style=\"text-align:center\">\n    <a href=\"https://www.linkedin.com/company/100193879/\" target=\"_blank\">\n    <img src=\"https://raw.githubusercontent.com/binatnadata/event2-python-ERME_CLUB/main/assets/logo.png\" width=\"100\" height=\"100\" alt=\"Binatna Data Logo\"  />\n    </a>",
      "metadata": {}
    }
  ]
}