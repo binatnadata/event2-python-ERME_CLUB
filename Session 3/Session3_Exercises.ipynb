{
 "cells": [
  {
   "cell_type": "markdown",
   "id": "3ff2d12e",
   "metadata": {},
   "source": [
    "<p style=\"text-align:center\">\n",
    "    <a href=\"https://github.com/binatnadata/event2-python-ERME_CLUB/tree/main\" target=\"_blank\">\n",
    "    <img src=\"https://raw.githubusercontent.com/binatnadata/event2-python-ERME_CLUB/main/assets/banner_head.jpeg\" width=\"800\" height=\"500\" alt=\"Collaboration banner\"  />\n",
    "    </a>\n",
    "</p>"
   ]
  },
  {
   "cell_type": "markdown",
   "id": "10eabc47",
   "metadata": {},
   "source": [
    "## Python labs -By Binatna Data-\n",
    "- **Sessions of December 2023**\n",
    "- **Session of 31/12/2023**"
   ]
  },
  {
   "cell_type": "markdown",
   "id": "0fbbb363",
   "metadata": {},
   "source": [
    "<hr>\n",
    "<hr>"
   ]
  },
  {
   "cell_type": "markdown",
   "id": "9b58e522",
   "metadata": {},
   "source": [
    "<p style=\"text-align:center\">\n",
    "    <a href=\"https://github.com/binatnadata/event2-python-ERME_CLUB/tree/main\" target=\"_blank\">\n",
    "    <img src=\"https://raw.githubusercontent.com/binatnadata/event2-python-ERME_CLUB/main/assets/circle.jpg\" width=\"400\" height=\"500\" alt=\"Numpy logo\"  />\n",
    "    </a>\n",
    "</p>"
   ]
  },
  {
   "cell_type": "markdown",
   "id": "be99dab7",
   "metadata": {},
   "source": [
    "## Exercice 1"
   ]
  },
  {
   "cell_type": "markdown",
   "id": "740d85e8",
   "metadata": {},
   "source": [
    "1. Load the csv file named \"energies_over_time.csv\"\n",
    "2. print the `HEAD`, the `TAIL`\n",
    "3. Print this informations: `columns names`,  dataframe `size`, `dtype`, `chape`, dataframe `information` \n",
    "4. rename the column name \"Energy\" by \"E\"\n",
    "5. check for `duplacted rows`, `nan rows`, if exist `drop` em\n",
    "6. Create a line chart using Matplotlib to visualize the trend in `solar panel energy production` over the given `dates`. Label the `x-axis` as \"Date\" and the `y-axis` as \"Energy Production (kWh)\". Choose an appropriate `title` for the chart."
   ]
  },
  {
   "cell_type": "markdown",
   "id": "1c97bc88",
   "metadata": {},
   "source": [
    "## Exercice 2"
   ]
  },
  {
   "cell_type": "markdown",
   "id": "05582fef",
   "metadata": {},
   "source": [
    "1. Create new column named `Year` generated from the column `Date`.\n",
    "2. Groupe by Year and calculate the sum of energies for each year, name the result as `df2`.\n",
    "3. Print the `df2` dataframe (select only the column \"E\").\n",
    "4. Use `df2` to create a `bar` `chart` to compare the energy production on different `Years`. Each `bar` should represent a specific `Year`. Label the `x-axis` as \"Date\" and the `y-axis` as \"Energy Production (kWh)\". Provide a suitable `title for the chart`. Then Save the plot as a `png` image.\n",
    "5. Create a `pie chart` instead of a `bar chart`, Then Save the plot as a `png` image."
   ]
  },
  {
   "cell_type": "markdown",
   "id": "36dbfd06",
   "metadata": {},
   "source": [
    "---\n",
    "### Python Labs (C) 2023 [BinatnaData](https://www.linkedin.com/company/100193879/) Corporation"
   ]
  },
  {
   "cell_type": "markdown",
   "id": "bf8dfc0f",
   "metadata": {},
   "source": [
    "<p style=\"text-align:center\">\n",
    "    <a href=\"https://www.linkedin.com/company/100193879/\" target=\"_blank\">\n",
    "    <img src=\"https://raw.githubusercontent.com/binatnadata/event2-python-ERME_CLUB/main/assets/logo.png\" width=\"100\" height=\"100\" alt=\"Binatna Data Logo\"  />\n",
    "    </a>"
   ]
  }
 ],
 "metadata": {
  "kernelspec": {
   "display_name": "Python 3 (ipykernel)",
   "language": "python",
   "name": "python3"
  },
  "language_info": {
   "codemirror_mode": {
    "name": "ipython",
    "version": 3
   },
   "file_extension": ".py",
   "mimetype": "text/x-python",
   "name": "python",
   "nbconvert_exporter": "python",
   "pygments_lexer": "ipython3",
   "version": "3.7.16"
  }
 },
 "nbformat": 4,
 "nbformat_minor": 5
}
