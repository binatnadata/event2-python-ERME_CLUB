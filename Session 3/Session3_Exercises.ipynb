{
  "metadata": {
    "kernelspec": {
      "name": "python",
      "display_name": "Python (Pyodide)",
      "language": "python"
    },
    "language_info": {
      "codemirror_mode": {
        "name": "python",
        "version": 3
      },
      "file_extension": ".py",
      "mimetype": "text/x-python",
      "name": "python",
      "nbconvert_exporter": "python",
      "pygments_lexer": "ipython3",
      "version": "3.8"
    }
  },
  "nbformat_minor": 4,
  "nbformat": 4,
  "cells": [
    {
      "cell_type": "markdown",
      "source": "<p style=\"text-align:center\">\n    <a href=\"https://github.com/binatnadata/event2-python-ERME_CLUB/tree/main\" target=\"_blank\">\n    <img src=\"https://raw.githubusercontent.com/binatnadata/event2-python-ERME_CLUB/main/assets/banner_head.jpeg\" width=\"800\" height=\"500\" alt=\"Collaboration banner\"  />\n    </a>\n</p>",
      "metadata": {}
    },
    {
      "cell_type": "markdown",
      "source": "## Python labs -By Binatna Data-\n- **Sessions of December 2023**\n- **Session of 31/12/2023**",
      "metadata": {}
    },
    {
      "cell_type": "markdown",
      "source": "<hr>\n<hr>",
      "metadata": {}
    },
    {
      "cell_type": "markdown",
      "source": "<p style=\"text-align:center\">\n    <a href=\"https://github.com/binatnadata/event2-python-ERME_CLUB/tree/main\" target=\"_blank\">\n    <img src=\"https://raw.githubusercontent.com/binatnadata/event2-python-ERME_CLUB/main/assets/circle.jpg\" width=\"400\" height=\"500\" alt=\"Numpy logo\"  />\n    </a>\n</p>",
      "metadata": {}
    },
    {
      "cell_type": "markdown",
      "source": "## Exercice 1",
      "metadata": {}
    },
    {
      "cell_type": "markdown",
      "source": "1. Load the csv file named \"energies_over_time.csv\"\n2. print the `HEAD`, the `TAIL`\n3. Print this informations: `columns names`,  dataframe `size`, `dtype`, `chape`, dataframe `information` \n4. rename the column name \"Energy\" by \"E\"\n5. check for `duplacted rows`, `nan rows`, if exist `drop` em\n6. Create a line chart using Matplotlib to visualize the trend in `solar panel energy production` over the given `dates`. Label the `x-axis` as \"Date\" and the `y-axis` as \"Energy Production (kWh)\". Choose an appropriate `title` for the chart.",
      "metadata": {}
    },
    {
      "cell_type": "markdown",
      "source": "## Exercice 2",
      "metadata": {}
    },
    {
      "cell_type": "markdown",
      "source": "1. Create new column named `Year` generated from the column `Date`.\n2. Groupe by Year and calculate the sum of energies for each year, name the result as `df2`.\n3. Print the `df2` dataframe (select only the column \"E\").\n4. Use `df2` to create a `bar` `chart` to compare the energy production on different `Years`. Each `bar` should represent a specific `Year`. Label the `x-axis` as \"Date\" and the `y-axis` as \"Energy Production (kWh)\". Provide a suitable `title for the chart`. Then Save the plot as a `png` image.\n5. Create a `pie chart` instead of a `bar chart`, Then Save the plot as a `png` image.",
      "metadata": {}
    },
    {
      "cell_type": "markdown",
      "source": "---\n### Python Labs (C) 2023 [BinatnaData](https://www.linkedin.com/company/100193879/) Corporation",
      "metadata": {}
    },
    {
      "cell_type": "markdown",
      "source": "<p style=\"text-align:center\">\n    <a href=\"https://www.linkedin.com/company/100193879/\" target=\"_blank\">\n    <img src=\"https://raw.githubusercontent.com/binatnadata/event2-python-ERME_CLUB/main/assets/logo.png\" width=\"100\" height=\"100\" alt=\"Binatna Data Logo\"  />\n    </a>",
      "metadata": {}
    }
  ]
}